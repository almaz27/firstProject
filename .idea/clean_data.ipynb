{
 "cells": [
  {
   "cell_type": "code",
   "execution_count": 1,
   "id": "697f9464",
   "metadata": {},
   "outputs": [],
   "source": [
    "import pandas as pd\n",
    "from votings_to_csvfile import arrange_votings\n",
    "from deputy_votings import deputy_votes\n",
    "\n",
    "df_laws = pd.read_csv('pages/csv/6sep-15nov-2.csv', sep='|')"
   ]
  },
  {
   "cell_type": "code",
   "execution_count": 2,
   "id": "de96ecfb",
   "metadata": {},
   "outputs": [
    {
     "data": {
      "text/html": [
       "<div>\n",
       "<style scoped>\n",
       "    .dataframe tbody tr th:only-of-type {\n",
       "        vertical-align: middle;\n",
       "    }\n",
       "\n",
       "    .dataframe tbody tr th {\n",
       "        vertical-align: top;\n",
       "    }\n",
       "\n",
       "    .dataframe thead th {\n",
       "        text-align: right;\n",
       "    }\n",
       "</style>\n",
       "<table border=\"1\" class=\"dataframe\">\n",
       "  <thead>\n",
       "    <tr style=\"text-align: right;\">\n",
       "      <th></th>\n",
       "      <th>vote_link</th>\n",
       "      <th>law</th>\n",
       "      <th>reading</th>\n",
       "      <th>initiators</th>\n",
       "      <th>committee</th>\n",
       "    </tr>\n",
       "  </thead>\n",
       "  <tbody>\n",
       "    <tr>\n",
       "      <th>0</th>\n",
       "      <td>http://kenesh.kg//uploads/media/default/0001/9...</td>\n",
       "      <td>О проекте Закона «О праве на доступ к информац...</td>\n",
       "      <td>3</td>\n",
       "      <td>[Председатель Кабинета Министров,  вх. № 6-175...</td>\n",
       "      <td>[конституционному законодательству,  государст...</td>\n",
       "    </tr>\n",
       "    <tr>\n",
       "      <th>1</th>\n",
       "      <td>http://kenesh.kg//uploads/media/default/0001/9...</td>\n",
       "      <td>О проекте Закона «О внесении изменений в Закон...</td>\n",
       "      <td>2</td>\n",
       "      <td>[Чойбеков Б.К.,  вх. № 6-5229/23 от 13.04.23]</td>\n",
       "      <td>[конституционному законодательству,  государст...</td>\n",
       "    </tr>\n",
       "    <tr>\n",
       "      <th>2</th>\n",
       "      <td>http://kenesh.kg//uploads/media/default/0001/9...</td>\n",
       "      <td>О проекте Закона «О признании утратившим силу ...</td>\n",
       "      <td>2</td>\n",
       "      <td>[Председатель Кабинета Министров,  вх. № 6-104...</td>\n",
       "      <td>[бюджету,  экономической и фискальной политике]</td>\n",
       "    </tr>\n",
       "    <tr>\n",
       "      <th>3</th>\n",
       "      <td>http://kenesh.kg//uploads/media/default/0001/9...</td>\n",
       "      <td>О проекте Закона О внесении изменений в Закон ...</td>\n",
       "      <td>1</td>\n",
       "      <td>[Председатель Кабинета Министров,  вх. № 6-129...</td>\n",
       "      <td>[бюджету,  экономической и фискальной политике]</td>\n",
       "    </tr>\n",
       "    <tr>\n",
       "      <th>4</th>\n",
       "      <td>http://kenesh.kg//uploads/media/default/0001/9...</td>\n",
       "      <td>проекте Закона «О внесении изменений в некотор...</td>\n",
       "      <td>1</td>\n",
       "      <td>[Ашимова Д.А.,  Нарматова Н.А.,  Козуев А.А., ...</td>\n",
       "      <td>[конституционному законодательству,  государст...</td>\n",
       "    </tr>\n",
       "    <tr>\n",
       "      <th>5</th>\n",
       "      <td>http://kenesh.kg//uploads/media/default/0001/9...</td>\n",
       "      <td>О проекте Закона «О внесении изменения в Гражд...</td>\n",
       "      <td>1</td>\n",
       "      <td>[Председатель Кабинета Министров,  вх. № 6-116...</td>\n",
       "      <td>[конституционному законодательству,  государст...</td>\n",
       "    </tr>\n",
       "    <tr>\n",
       "      <th>6</th>\n",
       "      <td>http://kenesh.kg//uploads/media/default/0001/9...</td>\n",
       "      <td>проекте Закона «О стратегическом планировании ...</td>\n",
       "      <td>3</td>\n",
       "      <td>[Айжигитов С.А.,  Кадырбеков Н.К.,  Мамасадыко...</td>\n",
       "      <td>[бюджету,  экономической и фискальной политике]</td>\n",
       "    </tr>\n",
       "    <tr>\n",
       "      <th>7</th>\n",
       "      <td>http://kenesh.kg//uploads/media/default/0001/9...</td>\n",
       "      <td>проекте Закона «О внесении изменения в Закон К...</td>\n",
       "      <td>3</td>\n",
       "      <td>[Айжигитов С.А.,  Сарбагышев М.К.,  вх. № 6-23...</td>\n",
       "      <td>[бюджету,  экономической и фискальной политике]</td>\n",
       "    </tr>\n",
       "    <tr>\n",
       "      <th>8</th>\n",
       "      <td>http://kenesh.kg//uploads/media/default/0001/9...</td>\n",
       "      <td>проекте конституционного Закона «О внесении из...</td>\n",
       "      <td>3</td>\n",
       "      <td>[Айжигитов С.А.,  вх. № 6-23941/22 от 01.12.2022]</td>\n",
       "      <td>[конституционному законодательству,  государст...</td>\n",
       "    </tr>\n",
       "    <tr>\n",
       "      <th>9</th>\n",
       "      <td>http://kenesh.kg//uploads/media/default/0001/9...</td>\n",
       "      <td>О проекте Закона «Об амнистии в связи 30-летие...</td>\n",
       "      <td>2</td>\n",
       "      <td>[Коргонбай уулу Ж. вх. № 6-10525/23 от 27.07.23]</td>\n",
       "      <td>[конституционному законодательству,  государст...</td>\n",
       "    </tr>\n",
       "  </tbody>\n",
       "</table>\n",
       "</div>"
      ],
      "text/plain": [
       "                                           vote_link   \n",
       "0  http://kenesh.kg//uploads/media/default/0001/9...  \\\n",
       "1  http://kenesh.kg//uploads/media/default/0001/9...   \n",
       "2  http://kenesh.kg//uploads/media/default/0001/9...   \n",
       "3  http://kenesh.kg//uploads/media/default/0001/9...   \n",
       "4  http://kenesh.kg//uploads/media/default/0001/9...   \n",
       "5  http://kenesh.kg//uploads/media/default/0001/9...   \n",
       "6  http://kenesh.kg//uploads/media/default/0001/9...   \n",
       "7  http://kenesh.kg//uploads/media/default/0001/9...   \n",
       "8  http://kenesh.kg//uploads/media/default/0001/9...   \n",
       "9  http://kenesh.kg//uploads/media/default/0001/9...   \n",
       "\n",
       "                                                 law  reading   \n",
       "0  О проекте Закона «О праве на доступ к информац...        3  \\\n",
       "1  О проекте Закона «О внесении изменений в Закон...        2   \n",
       "2  О проекте Закона «О признании утратившим силу ...        2   \n",
       "3  О проекте Закона О внесении изменений в Закон ...        1   \n",
       "4  проекте Закона «О внесении изменений в некотор...        1   \n",
       "5  О проекте Закона «О внесении изменения в Гражд...        1   \n",
       "6  проекте Закона «О стратегическом планировании ...        3   \n",
       "7  проекте Закона «О внесении изменения в Закон К...        3   \n",
       "8  проекте конституционного Закона «О внесении из...        3   \n",
       "9  О проекте Закона «Об амнистии в связи 30-летие...        2   \n",
       "\n",
       "                                          initiators   \n",
       "0  [Председатель Кабинета Министров,  вх. № 6-175...  \\\n",
       "1      [Чойбеков Б.К.,  вх. № 6-5229/23 от 13.04.23]   \n",
       "2  [Председатель Кабинета Министров,  вх. № 6-104...   \n",
       "3  [Председатель Кабинета Министров,  вх. № 6-129...   \n",
       "4  [Ашимова Д.А.,  Нарматова Н.А.,  Козуев А.А., ...   \n",
       "5  [Председатель Кабинета Министров,  вх. № 6-116...   \n",
       "6  [Айжигитов С.А.,  Кадырбеков Н.К.,  Мамасадыко...   \n",
       "7  [Айжигитов С.А.,  Сарбагышев М.К.,  вх. № 6-23...   \n",
       "8  [Айжигитов С.А.,  вх. № 6-23941/22 от 01.12.2022]   \n",
       "9   [Коргонбай уулу Ж. вх. № 6-10525/23 от 27.07.23]   \n",
       "\n",
       "                                           committee  \n",
       "0  [конституционному законодательству,  государст...  \n",
       "1  [конституционному законодательству,  государст...  \n",
       "2    [бюджету,  экономической и фискальной политике]  \n",
       "3    [бюджету,  экономической и фискальной политике]  \n",
       "4  [конституционному законодательству,  государст...  \n",
       "5  [конституционному законодательству,  государст...  \n",
       "6    [бюджету,  экономической и фискальной политике]  \n",
       "7    [бюджету,  экономической и фискальной политике]  \n",
       "8  [конституционному законодательству,  государст...  \n",
       "9  [конституционному законодательству,  государст...  "
      ]
     },
     "execution_count": 2,
     "metadata": {},
     "output_type": "execute_result"
    }
   ],
   "source": [
    "df_laws.head(10)"
   ]
  },
  {
   "cell_type": "code",
   "execution_count": 67,
   "id": "eb6fadd1",
   "metadata": {},
   "outputs": [],
   "source": [
    "df_ayjigitov=deputy_votes('Кокулов Э.К.')"
   ]
  },
  {
   "cell_type": "code",
   "execution_count": 68,
   "id": "b45b4c5b",
   "metadata": {},
   "outputs": [
    {
     "data": {
      "text/plain": [
       "<Axes: xlabel='vote'>"
      ]
     },
     "execution_count": 68,
     "metadata": {},
     "output_type": "execute_result"
    },
    {
     "data": {
      "image/png": "[encoded data removed]",
      "text/plain": [
       "<Figure size 640x480 with 1 Axes>"
      ]
     },
     "metadata": {},
     "output_type": "display_data"
    }
   ],
   "source": [
    "df_ayjigitov['vote'].value_counts(normalize=True).plot.bar()"
   ]
  },
  {
   "cell_type": "code",
   "execution_count": 69,
   "id": "34aba1db",
   "metadata": {},
   "outputs": [],
   "source": [
    "from sklearn.preprocessing import LabelEncoder\n",
    "enc = LabelEncoder()"
   ]
  },
  {
   "cell_type": "code",
   "execution_count": 70,
   "id": "fea12327",
   "metadata": {},
   "outputs": [],
   "source": [
    "votes_numbered = enc.fit_transform(df_ayjigitov['vote'])\n"
   ]
  },
  {
   "cell_type": "code",
   "execution_count": 71,
   "id": "db683c6c",
   "metadata": {},
   "outputs": [],
   "source": [
    "df_ayjigitov['votes_numerized'] = votes_numbered"
   ]
  },
  {
   "cell_type": "code",
   "execution_count": 72,
   "id": "0112400e",
   "metadata": {},
   "outputs": [],
   "source": [
    "df_ayjigitov['initiators_only'] = df_ayjigitov['initiators'].map(lambda initiator: initiator.replace(initiator[initiator.rfind(','):-1],''))"
   ]
  },
  {
   "cell_type": "code",
   "execution_count": 73,
   "id": "b88db653",
   "metadata": {},
   "outputs": [],
   "source": [
    "df_ayjigitov['initiators_numerized']=enc.fit_transform(df_ayjigitov['initiators_only'])"
   ]
  },
  {
   "cell_type": "code",
   "execution_count": 74,
   "id": "175e1fe0",
   "metadata": {},
   "outputs": [],
   "source": [
    "df_ayjigitov['committee_numerized']=enc.fit_transform(df_ayjigitov['committee'])"
   ]
  },
  {
   "cell_type": "code",
   "execution_count": 75,
   "id": "33afb615",
   "metadata": {},
   "outputs": [
    {
     "data": {
      "text/plain": [
       "0      9\n",
       "1      9\n",
       "2      3\n",
       "3      3\n",
       "4      4\n",
       "      ..\n",
       "158    3\n",
       "159    1\n",
       "160    9\n",
       "161    9\n",
       "162    9\n",
       "Name: committee_numerized, Length: 163, dtype: int64"
      ]
     },
     "execution_count": 75,
     "metadata": {},
     "output_type": "execute_result"
    }
   ],
   "source": [
    "df_ayjigitov['committee_numerized']"
   ]
  },
  {
   "cell_type": "code",
   "execution_count": 76,
   "id": "4e4e2bef",
   "metadata": {},
   "outputs": [],
   "source": [
    "df_ayjigitov_n = df_ayjigitov.drop(['vote','committee','initiators','initiators_only'], axis=1)"
   ]
  },
  {
   "cell_type": "code",
   "execution_count": 77,
   "id": "30c2d35d",
   "metadata": {},
   "outputs": [
    {
     "data": {
      "text/html": [
       "<div>\n",
       "<style scoped>\n",
       "    .dataframe tbody tr th:only-of-type {\n",
       "        vertical-align: middle;\n",
       "    }\n",
       "\n",
       "    .dataframe tbody tr th {\n",
       "        vertical-align: top;\n",
       "    }\n",
       "\n",
       "    .dataframe thead th {\n",
       "        text-align: right;\n",
       "    }\n",
       "</style>\n",
       "<table border=\"1\" class=\"dataframe\">\n",
       "  <thead>\n",
       "    <tr style=\"text-align: right;\">\n",
       "      <th></th>\n",
       "      <th>law</th>\n",
       "      <th>reading</th>\n",
       "      <th>votes_numerized</th>\n",
       "      <th>initiators_numerized</th>\n",
       "      <th>committee_numerized</th>\n",
       "    </tr>\n",
       "  </thead>\n",
       "  <tbody>\n",
       "    <tr>\n",
       "      <th>0</th>\n",
       "      <td>О проекте Закона «О праве на доступ к информац...</td>\n",
       "      <td>3</td>\n",
       "      <td>0</td>\n",
       "      <td>17</td>\n",
       "      <td>9</td>\n",
       "    </tr>\n",
       "    <tr>\n",
       "      <th>1</th>\n",
       "      <td>О проекте Закона «О внесении изменений в Закон...</td>\n",
       "      <td>2</td>\n",
       "      <td>1</td>\n",
       "      <td>24</td>\n",
       "      <td>9</td>\n",
       "    </tr>\n",
       "    <tr>\n",
       "      <th>2</th>\n",
       "      <td>О проекте Закона «О признании утратившим силу ...</td>\n",
       "      <td>2</td>\n",
       "      <td>1</td>\n",
       "      <td>17</td>\n",
       "      <td>3</td>\n",
       "    </tr>\n",
       "    <tr>\n",
       "      <th>3</th>\n",
       "      <td>О проекте Закона О внесении изменений в Закон ...</td>\n",
       "      <td>1</td>\n",
       "      <td>1</td>\n",
       "      <td>17</td>\n",
       "      <td>3</td>\n",
       "    </tr>\n",
       "    <tr>\n",
       "      <th>4</th>\n",
       "      <td>проекте Закона «О внесении изменений в некотор...</td>\n",
       "      <td>1</td>\n",
       "      <td>1</td>\n",
       "      <td>8</td>\n",
       "      <td>4</td>\n",
       "    </tr>\n",
       "  </tbody>\n",
       "</table>\n",
       "</div>"
      ],
      "text/plain": [
       "                                                 law  reading   \n",
       "0  О проекте Закона «О праве на доступ к информац...        3  \\\n",
       "1  О проекте Закона «О внесении изменений в Закон...        2   \n",
       "2  О проекте Закона «О признании утратившим силу ...        2   \n",
       "3  О проекте Закона О внесении изменений в Закон ...        1   \n",
       "4  проекте Закона «О внесении изменений в некотор...        1   \n",
       "\n",
       "   votes_numerized  initiators_numerized  committee_numerized  \n",
       "0                0                    17                    9  \n",
       "1                1                    24                    9  \n",
       "2                1                    17                    3  \n",
       "3                1                    17                    3  \n",
       "4                1                     8                    4  "
      ]
     },
     "execution_count": 77,
     "metadata": {},
     "output_type": "execute_result"
    }
   ],
   "source": [
    "df_ayjigitov_n.head()"
   ]
  },
  {
   "cell_type": "code",
   "execution_count": 78,
   "id": "7bfe4f6d",
   "metadata": {},
   "outputs": [],
   "source": [
    "df_ayjigitov_n['law_shortened'] =  df_ayjigitov_n['law'].map(lambda law: (law.replace(law[0:law.find('«')],'')) if law.find('«') !=-1 else law)"
   ]
  },
  {
   "cell_type": "code",
   "execution_count": 79,
   "id": "ea1e2bfa",
   "metadata": {},
   "outputs": [
    {
     "data": {
      "text/plain": [
       "0                     «О праве на доступ к информации» \n",
       "1     «О внесении изменений в Закон Кыргызской Респу...\n",
       "2     «О признании утратившим силу Закона Кыргызской...\n",
       "3     «Об игорной деятельности в Кыргызской Республи...\n",
       "4     «О внесении изменений в некоторые законодатель...\n",
       "5     «О внесении изменения в Гражданский процессуал...\n",
       "6     «О стратегическом планировании в Кыргызской Ре...\n",
       "7     «О внесении изменения в Закон Кыргызской Респу...\n",
       "8     «О внесении изменения в конституционный Закон ...\n",
       "9     «Об амнистии в связи 30-летием принятия Консти...\n",
       "10                  «Об обращении медицинских изделий» \n",
       "11                «Об обращении лекарственных средств» \n",
       "12    «О практике подготовки и проведения выборов, р...\n",
       "13    «О внесении изменений в конституционный Закон ...\n",
       "14    «О внесении изменений в Уголовно-процессуальны...\n",
       "15     образовании временной депутатской комиссии по...\n",
       "16    «О ратификации Соглашения между Кабинетом Мини...\n",
       "17    «О ратификации Протокола о внесении изменений ...\n",
       "18    «О ратификации Протокола о внесении изменений ...\n",
       "19    «О внесении изменения в Закон Кыргызской Респу...\n",
       "20    «О внесении изменений в некоторые законодатель...\n",
       "21    «О внесении изменений в Закон Кыргызской Респу...\n",
       "22    «О внесении изменений в некоторые законодатель...\n",
       "23    «О продлении срока работы депутатской комиссии...\n",
       "24    «О внесении изменений в Закон Кыргызской Респу...\n",
       "25    «Об охране здоровья граждан в Кыргызской Респу...\n",
       "26                   «Об общественном здравоохранении» \n",
       "27    «О ратификации Кредитного соглашения между Кыр...\n",
       "28    «О ратификации Кредитного соглашения между Кыр...\n",
       "29    «О ратификации Кредитного соглашения между Кыр...\n",
       "30    «О внесении изменений в Закон Кыргызской Респу...\n",
       "31    «О внесении изменений в некоторые постановлени...\n",
       "32    «Об утверждении Положения о служебных командир...\n",
       "33    «Об итогах работы временной депутатской комисс...\n",
       "34    «О внесении изменений в некоторые законодатель...\n",
       "35    «О внесении изменений в Закон Кыргызской Респу...\n",
       "36    «О присоединении Кыргызской Республики к Рамоч...\n",
       "37    «О ратификации Протокола о внесении изменений ...\n",
       "38    «О ратификации Протокола о внесении изменений ...\n",
       "39    «О ратификации Соглашения об учреждении Тюркск...\n",
       "40    «О внесении изменения в конституционный Закон ...\n",
       "41    «О признании утратившим силу Закона Кыргызской...\n",
       "42    «О переименовании отдельных айылных аймаков и ...\n",
       "43    «О внесении изменения в Уголовный кодекс Кыргы...\n",
       "44    «О внесении изменений в постановление Жогорку ...\n",
       "45    «О наркотических средствах, психотропных вещес...\n",
       "46    «О внесении изменений в Закон Кыргызской Респу...\n",
       "47    «О внесении изменений в Уголовный кодекс Кыргы...\n",
       "48    «О внесении изменений в некоторые законодатель...\n",
       "49    «О внесении изменений в Закон Кыргызской Респу...\n",
       "Name: law_shortened, dtype: object"
      ]
     },
     "execution_count": 79,
     "metadata": {},
     "output_type": "execute_result"
    }
   ],
   "source": [
    "df_ayjigitov_n['law_shortened'].iloc[0:50]"
   ]
  },
  {
   "cell_type": "code",
   "execution_count": 80,
   "id": "d38641ac",
   "metadata": {},
   "outputs": [
    {
     "data": {
      "text/plain": [
       "Index(['law', 'reading', 'votes_numerized', 'initiators_numerized',\n",
       "       'committee_numerized', 'law_shortened'],\n",
       "      dtype='object')"
      ]
     },
     "execution_count": 80,
     "metadata": {},
     "output_type": "execute_result"
    }
   ],
   "source": [
    "df_ayjigitov_n.columns"
   ]
  },
  {
   "cell_type": "code",
   "execution_count": 81,
   "id": "c8afb7f6",
   "metadata": {},
   "outputs": [
    {
     "data": {
      "text/html": [
       "<div>\n",
       "<style scoped>\n",
       "    .dataframe tbody tr th:only-of-type {\n",
       "        vertical-align: middle;\n",
       "    }\n",
       "\n",
       "    .dataframe tbody tr th {\n",
       "        vertical-align: top;\n",
       "    }\n",
       "\n",
       "    .dataframe thead th {\n",
       "        text-align: right;\n",
       "    }\n",
       "</style>\n",
       "<table border=\"1\" class=\"dataframe\">\n",
       "  <thead>\n",
       "    <tr style=\"text-align: right;\">\n",
       "      <th></th>\n",
       "      <th>reading</th>\n",
       "      <th>votes_numerized</th>\n",
       "      <th>initiators_numerized</th>\n",
       "      <th>committee_numerized</th>\n",
       "      <th>law_shortened</th>\n",
       "    </tr>\n",
       "  </thead>\n",
       "  <tbody>\n",
       "    <tr>\n",
       "      <th>0</th>\n",
       "      <td>3</td>\n",
       "      <td>0</td>\n",
       "      <td>17</td>\n",
       "      <td>9</td>\n",
       "      <td>«О праве на доступ к информации»</td>\n",
       "    </tr>\n",
       "    <tr>\n",
       "      <th>1</th>\n",
       "      <td>2</td>\n",
       "      <td>1</td>\n",
       "      <td>24</td>\n",
       "      <td>9</td>\n",
       "      <td>«О внесении изменений в Закон Кыргызской Респу...</td>\n",
       "    </tr>\n",
       "    <tr>\n",
       "      <th>2</th>\n",
       "      <td>2</td>\n",
       "      <td>1</td>\n",
       "      <td>17</td>\n",
       "      <td>3</td>\n",
       "      <td>«О признании утратившим силу Закона Кыргызской...</td>\n",
       "    </tr>\n",
       "    <tr>\n",
       "      <th>3</th>\n",
       "      <td>1</td>\n",
       "      <td>1</td>\n",
       "      <td>17</td>\n",
       "      <td>3</td>\n",
       "      <td>«Об игорной деятельности в Кыргызской Республи...</td>\n",
       "    </tr>\n",
       "    <tr>\n",
       "      <th>4</th>\n",
       "      <td>1</td>\n",
       "      <td>1</td>\n",
       "      <td>8</td>\n",
       "      <td>4</td>\n",
       "      <td>«О внесении изменений в некоторые законодатель...</td>\n",
       "    </tr>\n",
       "    <tr>\n",
       "      <th>...</th>\n",
       "      <td>...</td>\n",
       "      <td>...</td>\n",
       "      <td>...</td>\n",
       "      <td>...</td>\n",
       "      <td>...</td>\n",
       "    </tr>\n",
       "    <tr>\n",
       "      <th>158</th>\n",
       "      <td>3</td>\n",
       "      <td>1</td>\n",
       "      <td>9</td>\n",
       "      <td>3</td>\n",
       "      <td>«О внесении изменений в Закон Кыргызской Респу...</td>\n",
       "    </tr>\n",
       "    <tr>\n",
       "      <th>159</th>\n",
       "      <td>2</td>\n",
       "      <td>1</td>\n",
       "      <td>23</td>\n",
       "      <td>1</td>\n",
       "      <td>«О внесении изменения в Закон Кыргызской Респу...</td>\n",
       "    </tr>\n",
       "    <tr>\n",
       "      <th>160</th>\n",
       "      <td>2</td>\n",
       "      <td>1</td>\n",
       "      <td>17</td>\n",
       "      <td>9</td>\n",
       "      <td>«О присвоении географического названия «Шейх З...</td>\n",
       "    </tr>\n",
       "    <tr>\n",
       "      <th>161</th>\n",
       "      <td>2</td>\n",
       "      <td>1</td>\n",
       "      <td>17</td>\n",
       "      <td>9</td>\n",
       "      <td>«О присвоении географического названия «Король...</td>\n",
       "    </tr>\n",
       "    <tr>\n",
       "      <th>162</th>\n",
       "      <td>1</td>\n",
       "      <td>1</td>\n",
       "      <td>18</td>\n",
       "      <td>9</td>\n",
       "      <td>«О внесении изменения в конституционный Закон ...</td>\n",
       "    </tr>\n",
       "  </tbody>\n",
       "</table>\n",
       "<p>163 rows × 5 columns</p>\n",
       "</div>"
      ],
      "text/plain": [
       "     reading  votes_numerized  initiators_numerized  committee_numerized   \n",
       "0          3                0                    17                    9  \\\n",
       "1          2                1                    24                    9   \n",
       "2          2                1                    17                    3   \n",
       "3          1                1                    17                    3   \n",
       "4          1                1                     8                    4   \n",
       "..       ...              ...                   ...                  ...   \n",
       "158        3                1                     9                    3   \n",
       "159        2                1                    23                    1   \n",
       "160        2                1                    17                    9   \n",
       "161        2                1                    17                    9   \n",
       "162        1                1                    18                    9   \n",
       "\n",
       "                                         law_shortened  \n",
       "0                    «О праве на доступ к информации»   \n",
       "1    «О внесении изменений в Закон Кыргызской Респу...  \n",
       "2    «О признании утратившим силу Закона Кыргызской...  \n",
       "3    «Об игорной деятельности в Кыргызской Республи...  \n",
       "4    «О внесении изменений в некоторые законодатель...  \n",
       "..                                                 ...  \n",
       "158  «О внесении изменений в Закон Кыргызской Респу...  \n",
       "159  «О внесении изменения в Закон Кыргызской Респу...  \n",
       "160  «О присвоении географического названия «Шейх З...  \n",
       "161  «О присвоении географического названия «Король...  \n",
       "162  «О внесении изменения в конституционный Закон ...  \n",
       "\n",
       "[163 rows x 5 columns]"
      ]
     },
     "execution_count": 81,
     "metadata": {},
     "output_type": "execute_result"
    }
   ],
   "source": [
    "df_ayjigitov_n.drop(['law'], axis=1)"
   ]
  },
  {
   "cell_type": "code",
   "execution_count": 82,
   "id": "b40491c7",
   "metadata": {},
   "outputs": [
    {
     "data": {
      "text/plain": [
       "0                      «О праве на доступ к информации» \n",
       "1      «О внесении изменений в Закон Кыргызской Респу...\n",
       "2      «О признании утратившим силу Закона Кыргызской...\n",
       "3      «Об игорной деятельности в Кыргызской Республи...\n",
       "4      «О внесении изменений в некоторые законодатель...\n",
       "                             ...                        \n",
       "158    «О внесении изменений в Закон Кыргызской Респу...\n",
       "159    «О внесении изменения в Закон Кыргызской Респу...\n",
       "160    «О присвоении географического названия «Шейх З...\n",
       "161    «О присвоении географического названия «Король...\n",
       "162    «О внесении изменения в конституционный Закон ...\n",
       "Name: law_shortened, Length: 163, dtype: object"
      ]
     },
     "execution_count": 82,
     "metadata": {},
     "output_type": "execute_result"
    }
   ],
   "source": [
    "df_ayjigitov_n['law_shortened']"
   ]
  },
  {
   "cell_type": "code",
   "execution_count": 83,
   "id": "04df812c",
   "metadata": {},
   "outputs": [],
   "source": [
    "import translators as ts"
   ]
  },
  {
   "cell_type": "code",
   "execution_count": 84,
   "id": "e3524d2b",
   "metadata": {},
   "outputs": [],
   "source": [
    "df_ayjigitov_n['law_eng'] = df_ayjigitov_n['law_shortened'].map(lambda law: ts.translate_text(law, translator='google', from_language='ru', to_language='en'))"
   ]
  },
  {
   "cell_type": "code",
   "execution_count": 85,
   "id": "32e335da",
   "metadata": {},
   "outputs": [
    {
     "name": "stdout",
     "output_type": "stream",
     "text": [
      "“On amnesty in connection with the 30th anniversary of the Constitution of the Kyrgyz Republic and the 75th anniversary of the Universal Declaration of Human Rights”\n"
     ]
    }
   ],
   "source": [
    "print(df_ayjigitov_n['law_eng'][99])"
   ]
  },
  {
   "cell_type": "code",
   "execution_count": 86,
   "id": "f8dd9d09",
   "metadata": {},
   "outputs": [
    {
     "name": "stdout",
     "output_type": "stream",
     "text": [
      "«Об амнистии в связи 30-летием принятия Конституции Кыргызской Республики и 75-летием Всеобщей декларации прав человека» \n"
     ]
    }
   ],
   "source": [
    "print(df_ayjigitov_n['law_shortened'][99])"
   ]
  },
  {
   "cell_type": "code",
   "execution_count": 87,
   "id": "9173e430",
   "metadata": {},
   "outputs": [
    {
     "data": {
      "text/html": [
       "<div>\n",
       "<style scoped>\n",
       "    .dataframe tbody tr th:only-of-type {\n",
       "        vertical-align: middle;\n",
       "    }\n",
       "\n",
       "    .dataframe tbody tr th {\n",
       "        vertical-align: top;\n",
       "    }\n",
       "\n",
       "    .dataframe thead th {\n",
       "        text-align: right;\n",
       "    }\n",
       "</style>\n",
       "<table border=\"1\" class=\"dataframe\">\n",
       "  <thead>\n",
       "    <tr style=\"text-align: right;\">\n",
       "      <th></th>\n",
       "      <th>law</th>\n",
       "      <th>reading</th>\n",
       "      <th>votes_numerized</th>\n",
       "      <th>initiators_numerized</th>\n",
       "      <th>committee_numerized</th>\n",
       "      <th>law_eng</th>\n",
       "    </tr>\n",
       "  </thead>\n",
       "  <tbody>\n",
       "    <tr>\n",
       "      <th>0</th>\n",
       "      <td>О проекте Закона «О праве на доступ к информац...</td>\n",
       "      <td>3</td>\n",
       "      <td>0</td>\n",
       "      <td>17</td>\n",
       "      <td>9</td>\n",
       "      <td>\"On the right to access information\"</td>\n",
       "    </tr>\n",
       "    <tr>\n",
       "      <th>1</th>\n",
       "      <td>О проекте Закона «О внесении изменений в Закон...</td>\n",
       "      <td>2</td>\n",
       "      <td>1</td>\n",
       "      <td>24</td>\n",
       "      <td>9</td>\n",
       "      <td>\"On amendments to the Law of the Kyrgyz Republ...</td>\n",
       "    </tr>\n",
       "    <tr>\n",
       "      <th>2</th>\n",
       "      <td>О проекте Закона «О признании утратившим силу ...</td>\n",
       "      <td>2</td>\n",
       "      <td>1</td>\n",
       "      <td>17</td>\n",
       "      <td>3</td>\n",
       "      <td>“On the recognition of the Law of the Kyrgyz R...</td>\n",
       "    </tr>\n",
       "    <tr>\n",
       "      <th>3</th>\n",
       "      <td>О проекте Закона О внесении изменений в Закон ...</td>\n",
       "      <td>1</td>\n",
       "      <td>1</td>\n",
       "      <td>17</td>\n",
       "      <td>3</td>\n",
       "      <td>\"On gambling in the Kyrgyz Republic\"</td>\n",
       "    </tr>\n",
       "    <tr>\n",
       "      <th>4</th>\n",
       "      <td>проекте Закона «О внесении изменений в некотор...</td>\n",
       "      <td>1</td>\n",
       "      <td>1</td>\n",
       "      <td>8</td>\n",
       "      <td>4</td>\n",
       "      <td>“On amendments to some legislative acts of the...</td>\n",
       "    </tr>\n",
       "    <tr>\n",
       "      <th>...</th>\n",
       "      <td>...</td>\n",
       "      <td>...</td>\n",
       "      <td>...</td>\n",
       "      <td>...</td>\n",
       "      <td>...</td>\n",
       "      <td>...</td>\n",
       "    </tr>\n",
       "    <tr>\n",
       "      <th>158</th>\n",
       "      <td>проекте Закона «О внесении изменений в Закон К...</td>\n",
       "      <td>3</td>\n",
       "      <td>1</td>\n",
       "      <td>9</td>\n",
       "      <td>3</td>\n",
       "      <td>“On amendments to the Law of the Kyrgyz Republ...</td>\n",
       "    </tr>\n",
       "    <tr>\n",
       "      <th>159</th>\n",
       "      <td>проекте Закона «О внесении изменения в Закон К...</td>\n",
       "      <td>2</td>\n",
       "      <td>1</td>\n",
       "      <td>23</td>\n",
       "      <td>1</td>\n",
       "      <td>“On amendments to the Law of the Kyrgyz Republ...</td>\n",
       "    </tr>\n",
       "    <tr>\n",
       "      <th>160</th>\n",
       "      <td>О проекте Закона «О присвоении географического...</td>\n",
       "      <td>2</td>\n",
       "      <td>1</td>\n",
       "      <td>17</td>\n",
       "      <td>9</td>\n",
       "      <td>“On the appropriation of the geographical name...</td>\n",
       "    </tr>\n",
       "    <tr>\n",
       "      <th>161</th>\n",
       "      <td>О проекте Закона «О присвоении географического...</td>\n",
       "      <td>2</td>\n",
       "      <td>1</td>\n",
       "      <td>17</td>\n",
       "      <td>9</td>\n",
       "      <td>“On the appropriation of the geographical name...</td>\n",
       "    </tr>\n",
       "    <tr>\n",
       "      <th>162</th>\n",
       "      <td>проекте конституционного Закона «О внесении из...</td>\n",
       "      <td>1</td>\n",
       "      <td>1</td>\n",
       "      <td>18</td>\n",
       "      <td>9</td>\n",
       "      <td>“On amending the Constitutional Law of the Kyr...</td>\n",
       "    </tr>\n",
       "  </tbody>\n",
       "</table>\n",
       "<p>163 rows × 6 columns</p>\n",
       "</div>"
      ],
      "text/plain": [
       "                                                   law  reading   \n",
       "0    О проекте Закона «О праве на доступ к информац...        3  \\\n",
       "1    О проекте Закона «О внесении изменений в Закон...        2   \n",
       "2    О проекте Закона «О признании утратившим силу ...        2   \n",
       "3    О проекте Закона О внесении изменений в Закон ...        1   \n",
       "4    проекте Закона «О внесении изменений в некотор...        1   \n",
       "..                                                 ...      ...   \n",
       "158  проекте Закона «О внесении изменений в Закон К...        3   \n",
       "159  проекте Закона «О внесении изменения в Закон К...        2   \n",
       "160  О проекте Закона «О присвоении географического...        2   \n",
       "161  О проекте Закона «О присвоении географического...        2   \n",
       "162  проекте конституционного Закона «О внесении из...        1   \n",
       "\n",
       "     votes_numerized  initiators_numerized  committee_numerized   \n",
       "0                  0                    17                    9  \\\n",
       "1                  1                    24                    9   \n",
       "2                  1                    17                    3   \n",
       "3                  1                    17                    3   \n",
       "4                  1                     8                    4   \n",
       "..               ...                   ...                  ...   \n",
       "158                1                     9                    3   \n",
       "159                1                    23                    1   \n",
       "160                1                    17                    9   \n",
       "161                1                    17                    9   \n",
       "162                1                    18                    9   \n",
       "\n",
       "                                               law_eng  \n",
       "0                 \"On the right to access information\"  \n",
       "1    \"On amendments to the Law of the Kyrgyz Republ...  \n",
       "2    “On the recognition of the Law of the Kyrgyz R...  \n",
       "3                 \"On gambling in the Kyrgyz Republic\"  \n",
       "4    “On amendments to some legislative acts of the...  \n",
       "..                                                 ...  \n",
       "158  “On amendments to the Law of the Kyrgyz Republ...  \n",
       "159  “On amendments to the Law of the Kyrgyz Republ...  \n",
       "160  “On the appropriation of the geographical name...  \n",
       "161  “On the appropriation of the geographical name...  \n",
       "162  “On amending the Constitutional Law of the Kyr...  \n",
       "\n",
       "[163 rows x 6 columns]"
      ]
     },
     "execution_count": 87,
     "metadata": {},
     "output_type": "execute_result"
    }
   ],
   "source": [
    "df_ayjigitov_n.drop('law_shortened',axis=1)"
   ]
  },
  {
   "cell_type": "code",
   "execution_count": 88,
   "id": "a6b5e425",
   "metadata": {},
   "outputs": [
    {
     "data": {
      "text/plain": [
       "0                      «О праве на доступ к информации» \n",
       "1      «О внесении изменений в Закон Кыргызской Респу...\n",
       "2      «О признании утратившим силу Закона Кыргызской...\n",
       "3      «Об игорной деятельности в Кыргызской Республи...\n",
       "4      «О внесении изменений в некоторые законодатель...\n",
       "                             ...                        \n",
       "158    «О внесении изменений в Закон Кыргызской Респу...\n",
       "159    «О внесении изменения в Закон Кыргызской Респу...\n",
       "160    «О присвоении географического названия «Шейх З...\n",
       "161    «О присвоении географического названия «Король...\n",
       "162    «О внесении изменения в конституционный Закон ...\n",
       "Name: law_shortened, Length: 163, dtype: object"
      ]
     },
     "execution_count": 88,
     "metadata": {},
     "output_type": "execute_result"
    }
   ],
   "source": [
    "df_ayjigitov_n['law_shortened']"
   ]
  },
  {
   "cell_type": "code",
   "execution_count": 89,
   "id": "00689d8c",
   "metadata": {},
   "outputs": [],
   "source": [
    "df_ayjigitov_n.drop(['law'],axis=1,inplace=True)"
   ]
  },
  {
   "cell_type": "code",
   "execution_count": 90,
   "id": "e5df1065",
   "metadata": {},
   "outputs": [],
   "source": [
    "import nltk\n"
   ]
  },
  {
   "cell_type": "code",
   "execution_count": 91,
   "id": "e5e190ff",
   "metadata": {},
   "outputs": [
    {
     "data": {
      "text/plain": [
       "'\"On the right to access information\"'"
      ]
     },
     "execution_count": 91,
     "metadata": {},
     "output_type": "execute_result"
    }
   ],
   "source": [
    "df_ayjigitov_n['law_eng'].iloc[0]"
   ]
  },
  {
   "cell_type": "code",
   "execution_count": 92,
   "id": "c24da2c2",
   "metadata": {},
   "outputs": [],
   "source": [
    "from textprocessing import process_text"
   ]
  },
  {
   "cell_type": "code",
   "execution_count": 93,
   "id": "9afccc00",
   "metadata": {},
   "outputs": [],
   "source": [
    "df_ayjigitov_n['processed_law']=df_ayjigitov_n['law_eng'].map(lambda law: process_text(law))"
   ]
  },
  {
   "cell_type": "code",
   "execution_count": 94,
   "id": "f83962b2",
   "metadata": {},
   "outputs": [
    {
     "data": {
      "text/plain": [
       "'\"on right access information\"'"
      ]
     },
     "execution_count": 94,
     "metadata": {},
     "output_type": "execute_result"
    }
   ],
   "source": [
    "df_ayjigitov_n['processed_law'][0]"
   ]
  },
  {
   "cell_type": "code",
   "execution_count": 95,
   "id": "f578d95a",
   "metadata": {},
   "outputs": [],
   "source": [
    "import re\n",
    "\n",
    "from nltk.corpus import stopwords\n",
    "\n",
    "from nltk.stem import WordNetLemmatizer\n",
    "\n",
    "lemmatizer = WordNetLemmatizer()"
   ]
  },
  {
   "cell_type": "code",
   "execution_count": 96,
   "id": "d443b7b4",
   "metadata": {},
   "outputs": [],
   "source": [
    "def process_texty(text):\n",
    "    for i in range(len(text)):\n",
    "        r = re.sub('[^a-zA-Z]', ' ', text[i])\n",
    "\n",
    "        r = text.lower()\n",
    "\n",
    "        r = r.split()\n",
    "\n",
    "        r = [word for word in r if word not in stopwords.words('english')]\n",
    "\n",
    "        r = [lemmatizer.lemmatize(word) for word in r]\n",
    "\n",
    "        r = ' '.join(r)\n",
    "\n",
    "        return r"
   ]
  },
  {
   "cell_type": "code",
   "execution_count": 97,
   "id": "f3e91223",
   "metadata": {},
   "outputs": [],
   "source": [
    "df_ayjigitov_n['processed_law']=df_ayjigitov_n['law_eng'].map(lambda law: process_texty(law))"
   ]
  },
  {
   "cell_type": "code",
   "execution_count": 98,
   "id": "87c782bc",
   "metadata": {},
   "outputs": [
    {
     "data": {
      "text/plain": [
       "'\"on right access information\"'"
      ]
     },
     "execution_count": 98,
     "metadata": {},
     "output_type": "execute_result"
    }
   ],
   "source": [
    "df_ayjigitov_n['processed_law'][0]"
   ]
  },
  {
   "cell_type": "code",
   "execution_count": 99,
   "id": "e17c643d",
   "metadata": {},
   "outputs": [
    {
     "data": {
      "text/html": [
       "<div>\n",
       "<style scoped>\n",
       "    .dataframe tbody tr th:only-of-type {\n",
       "        vertical-align: middle;\n",
       "    }\n",
       "\n",
       "    .dataframe tbody tr th {\n",
       "        vertical-align: top;\n",
       "    }\n",
       "\n",
       "    .dataframe thead th {\n",
       "        text-align: right;\n",
       "    }\n",
       "</style>\n",
       "<table border=\"1\" class=\"dataframe\">\n",
       "  <thead>\n",
       "    <tr style=\"text-align: right;\">\n",
       "      <th></th>\n",
       "      <th>reading</th>\n",
       "      <th>votes_numerized</th>\n",
       "      <th>initiators_numerized</th>\n",
       "      <th>committee_numerized</th>\n",
       "      <th>law_shortened</th>\n",
       "      <th>law_eng</th>\n",
       "      <th>processed_law</th>\n",
       "    </tr>\n",
       "  </thead>\n",
       "  <tbody>\n",
       "    <tr>\n",
       "      <th>0</th>\n",
       "      <td>3</td>\n",
       "      <td>0</td>\n",
       "      <td>17</td>\n",
       "      <td>9</td>\n",
       "      <td>«О праве на доступ к информации»</td>\n",
       "      <td>\"On the right to access information\"</td>\n",
       "      <td>\"on right access information\"</td>\n",
       "    </tr>\n",
       "    <tr>\n",
       "      <th>1</th>\n",
       "      <td>2</td>\n",
       "      <td>1</td>\n",
       "      <td>24</td>\n",
       "      <td>9</td>\n",
       "      <td>«О внесении изменений в Закон Кыргызской Респу...</td>\n",
       "      <td>\"On amendments to the Law of the Kyrgyz Republ...</td>\n",
       "      <td>\"on amendment law kyrgyz republic\" state civil...</td>\n",
       "    </tr>\n",
       "    <tr>\n",
       "      <th>2</th>\n",
       "      <td>2</td>\n",
       "      <td>1</td>\n",
       "      <td>17</td>\n",
       "      <td>3</td>\n",
       "      <td>«О признании утратившим силу Закона Кыргызской...</td>\n",
       "      <td>“On the recognition of the Law of the Kyrgyz R...</td>\n",
       "      <td>“on recognition law kyrgyz republic“ restorati...</td>\n",
       "    </tr>\n",
       "    <tr>\n",
       "      <th>3</th>\n",
       "      <td>1</td>\n",
       "      <td>1</td>\n",
       "      <td>17</td>\n",
       "      <td>3</td>\n",
       "      <td>«Об игорной деятельности в Кыргызской Республи...</td>\n",
       "      <td>\"On gambling in the Kyrgyz Republic\"</td>\n",
       "      <td>\"on gambling kyrgyz republic\"</td>\n",
       "    </tr>\n",
       "    <tr>\n",
       "      <th>4</th>\n",
       "      <td>1</td>\n",
       "      <td>1</td>\n",
       "      <td>8</td>\n",
       "      <td>4</td>\n",
       "      <td>«О внесении изменений в некоторые законодатель...</td>\n",
       "      <td>“On amendments to some legislative acts of the...</td>\n",
       "      <td>“on amendment legislative act kyrgyz republic ...</td>\n",
       "    </tr>\n",
       "  </tbody>\n",
       "</table>\n",
       "</div>"
      ],
      "text/plain": [
       "   reading  votes_numerized  initiators_numerized  committee_numerized   \n",
       "0        3                0                    17                    9  \\\n",
       "1        2                1                    24                    9   \n",
       "2        2                1                    17                    3   \n",
       "3        1                1                    17                    3   \n",
       "4        1                1                     8                    4   \n",
       "\n",
       "                                       law_shortened   \n",
       "0                  «О праве на доступ к информации»   \\\n",
       "1  «О внесении изменений в Закон Кыргызской Респу...   \n",
       "2  «О признании утратившим силу Закона Кыргызской...   \n",
       "3  «Об игорной деятельности в Кыргызской Республи...   \n",
       "4  «О внесении изменений в некоторые законодатель...   \n",
       "\n",
       "                                             law_eng   \n",
       "0               \"On the right to access information\"  \\\n",
       "1  \"On amendments to the Law of the Kyrgyz Republ...   \n",
       "2  “On the recognition of the Law of the Kyrgyz R...   \n",
       "3               \"On gambling in the Kyrgyz Republic\"   \n",
       "4  “On amendments to some legislative acts of the...   \n",
       "\n",
       "                                       processed_law  \n",
       "0                      \"on right access information\"  \n",
       "1  \"on amendment law kyrgyz republic\" state civil...  \n",
       "2  “on recognition law kyrgyz republic“ restorati...  \n",
       "3                      \"on gambling kyrgyz republic\"  \n",
       "4  “on amendment legislative act kyrgyz republic ...  "
      ]
     },
     "execution_count": 99,
     "metadata": {},
     "output_type": "execute_result"
    }
   ],
   "source": [
    "df_ayjigitov_n.iloc[0:5,:]"
   ]
  },
  {
   "cell_type": "code",
   "execution_count": 100,
   "id": "4646cb3d",
   "metadata": {},
   "outputs": [],
   "source": [
    "X = df_ayjigitov_n['processed_law']\n",
    "\n",
    "y = df_ayjigitov_n['votes_numerized']"
   ]
  },
  {
   "cell_type": "code",
   "execution_count": 101,
   "id": "6e3cde8e",
   "metadata": {},
   "outputs": [],
   "source": [
    "from sklearn.model_selection import train_test_split"
   ]
  },
  {
   "cell_type": "code",
   "execution_count": 108,
   "id": "6267481e",
   "metadata": {},
   "outputs": [],
   "source": [
    "X_train, X_test, y_train, y_test = train_test_split(X, y, test_size=0.5, random_state=21)"
   ]
  },
  {
   "cell_type": "code",
   "execution_count": 109,
   "id": "f9d06f04",
   "metadata": {},
   "outputs": [
    {
     "data": {
      "text/plain": [
       "(81,)"
      ]
     },
     "execution_count": 109,
     "metadata": {},
     "output_type": "execute_result"
    }
   ],
   "source": [
    "X_train.shape"
   ]
  },
  {
   "cell_type": "code",
   "execution_count": 110,
   "id": "f32190a2",
   "metadata": {},
   "outputs": [
    {
     "data": {
      "text/plain": [
       "<81x403 sparse matrix of type '<class 'numpy.int64'>'\n",
       "\twith 1185 stored elements in Compressed Sparse Row format>"
      ]
     },
     "execution_count": 110,
     "metadata": {},
     "output_type": "execute_result"
    }
   ],
   "source": [
    "# Train Bag of Words model\n",
    "\n",
    "from sklearn.feature_extraction.text import CountVectorizer\n",
    "\n",
    "cv = CountVectorizer()\n",
    "\n",
    "X_train_cv = cv.fit_transform(X_train)\n",
    "\n",
    "X_train_cv"
   ]
  },
  {
   "cell_type": "code",
   "execution_count": 111,
   "id": "e8117c07",
   "metadata": {},
   "outputs": [
    {
     "data": {
      "text/plain": [
       "(81, 403)"
      ]
     },
     "execution_count": 111,
     "metadata": {},
     "output_type": "execute_result"
    }
   ],
   "source": [
    "X_train_cv.shape"
   ]
  },
  {
   "cell_type": "code",
   "execution_count": 112,
   "id": "e73eb1e0",
   "metadata": {},
   "outputs": [],
   "source": [
    "from sklearn.linear_model import LogisticRegression\n",
    "lr = LogisticRegression()"
   ]
  },
  {
   "cell_type": "code",
   "execution_count": 113,
   "id": "fac807d2",
   "metadata": {},
   "outputs": [
    {
     "ename": "ValueError",
     "evalue": "This solver needs samples of at least 2 classes in the data, but the data contains only one class: 1",
     "output_type": "error",
     "traceback": [
      "\u001b[0;31m---------------------------------------------------------------------------\u001b[0m",
      "\u001b[0;31mValueError\u001b[0m                                Traceback (most recent call last)",
      "Cell \u001b[0;32mIn[113], line 1\u001b[0m\n\u001b[0;32m----> 1\u001b[0m \u001b[43mlr\u001b[49m\u001b[38;5;241;43m.\u001b[39;49m\u001b[43mfit\u001b[49m\u001b[43m(\u001b[49m\u001b[43mX_train_cv\u001b[49m\u001b[43m,\u001b[49m\u001b[43m \u001b[49m\u001b[43my_train\u001b[49m\u001b[43m)\u001b[49m\n",
      "File \u001b[0;32m/Library/Frameworks/Python.framework/Versions/3.10/lib/python3.10/site-packages/sklearn/linear_model/_logistic.py:1241\u001b[0m, in \u001b[0;36mLogisticRegression.fit\u001b[0;34m(self, X, y, sample_weight)\u001b[0m\n\u001b[1;32m   1239\u001b[0m classes_ \u001b[38;5;241m=\u001b[39m \u001b[38;5;28mself\u001b[39m\u001b[38;5;241m.\u001b[39mclasses_\n\u001b[1;32m   1240\u001b[0m \u001b[38;5;28;01mif\u001b[39;00m n_classes \u001b[38;5;241m<\u001b[39m \u001b[38;5;241m2\u001b[39m:\n\u001b[0;32m-> 1241\u001b[0m     \u001b[38;5;28;01mraise\u001b[39;00m \u001b[38;5;167;01mValueError\u001b[39;00m(\n\u001b[1;32m   1242\u001b[0m         \u001b[38;5;124m\"\u001b[39m\u001b[38;5;124mThis solver needs samples of at least 2 classes\u001b[39m\u001b[38;5;124m\"\u001b[39m\n\u001b[1;32m   1243\u001b[0m         \u001b[38;5;124m\"\u001b[39m\u001b[38;5;124m in the data, but the data contains only one\u001b[39m\u001b[38;5;124m\"\u001b[39m\n\u001b[1;32m   1244\u001b[0m         \u001b[38;5;124m\"\u001b[39m\u001b[38;5;124m class: \u001b[39m\u001b[38;5;132;01m%r\u001b[39;00m\u001b[38;5;124m\"\u001b[39m\n\u001b[1;32m   1245\u001b[0m         \u001b[38;5;241m%\u001b[39m classes_[\u001b[38;5;241m0\u001b[39m]\n\u001b[1;32m   1246\u001b[0m     )\n\u001b[1;32m   1248\u001b[0m \u001b[38;5;28;01mif\u001b[39;00m \u001b[38;5;28mlen\u001b[39m(\u001b[38;5;28mself\u001b[39m\u001b[38;5;241m.\u001b[39mclasses_) \u001b[38;5;241m==\u001b[39m \u001b[38;5;241m2\u001b[39m:\n\u001b[1;32m   1249\u001b[0m     n_classes \u001b[38;5;241m=\u001b[39m \u001b[38;5;241m1\u001b[39m\n",
      "\u001b[0;31mValueError\u001b[0m: This solver needs samples of at least 2 classes in the data, but the data contains only one class: 1"
     ]
    }
   ],
   "source": [
    "lr.fit(X_train_cv, y_train)"
   ]
  },
  {
   "cell_type": "code",
   "execution_count": null,
   "id": "beed1b70",
   "metadata": {},
   "outputs": [],
   "source": []
  }
 ],
 "metadata": {
  "kernelspec": {
   "display_name": "Python 3 (ipykernel)",
   "language": "python",
   "name": "python3"
  },
  "language_info": {
   "codemirror_mode": {
    "name": "ipython",
    "version": 3
   },
   "file_extension": ".py",
   "mimetype": "text/x-python",
   "name": "python",
   "nbconvert_exporter": "python",
   "pygments_lexer": "ipython3",
   "version": "3.10.11"
  }
 },
 "nbformat": 4,
 "nbformat_minor": 5
}
