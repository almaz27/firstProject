{
 "cells": [
  {
   "cell_type": "code",
   "execution_count": null,
   "id": "78a131da",
   "metadata": {},
   "outputs": [],
   "source": [
    "import pandas as pd\n",
    "from votings_to_csvfile import arrange_votings\n",
    "\n",
    "df_laws = pd.read_csv('pages/csv/6sep-15nov.csv', sep='|')"
   ]
  }
 ],
 "metadata": {
  "kernelspec": {
   "display_name": "Python 3 (ipykernel)",
   "language": "python",
   "name": "python3"
  }
 },
 "nbformat": 4,
 "nbformat_minor": 5
}
